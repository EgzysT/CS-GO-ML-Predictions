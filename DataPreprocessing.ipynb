{
 "cells": [
  {
   "cell_type": "code",
   "execution_count": 1,
   "metadata": {},
   "outputs": [
    {
     "name": "stdout",
     "output_type": "stream",
     "text": [
      "importing Jupyter notebook from DataLoader.ipynb\n"
     ]
    }
   ],
   "source": [
    "# IPython magic\n",
    "%config IPCompleter.greedy=True\n",
    "\n",
    "# Import other notebooks\n",
    "import import_ipynb\n",
    "from DataLoader import *\n",
    "\n",
    "# Imports\n",
    "import pandas as pd\n",
    "import json\n",
    "import numpy as np\n",
    "\n",
    "\n",
    "# Pandas settings\n",
    "pd.set_option('display.max_columns', 500)\n",
    "pd.set_option('display.width', 1000)"
   ]
  },
  {
   "cell_type": "code",
   "execution_count": 4,
   "metadata": {},
   "outputs": [],
   "source": [
    "def assignDataTypes(df):\n",
    "    df[\"CT_score\"] = pd.to_numeric(df[\"CT_score\"], downcast=\"unsigned\")\n",
    "    df[\"T_score\"] = pd.to_numeric(df[\"T_score\"], downcast=\"unsigned\")\n",
    "    \n",
    "    df[\"CT_total_health\"] = pd.to_numeric(df[\"CT_total_health\"], downcast=\"unsigned\")\n",
    "    df[\"T_total_health\"] = pd.to_numeric(df[\"T_total_health\"], downcast=\"unsigned\")\n",
    "    df[\"CT_num_alive_players\"] = pd.to_numeric(df[\"CT_num_alive_players\"], downcast=\"unsigned\")\n",
    "    df[\"T_num_alive_players\"] = pd.to_numeric(df[\"T_num_alive_players\"], downcast=\"unsigned\")\n",
    "    df[\"CT_equip_value\"] = pd.to_numeric(df[\"CT_equip_value\"], downcast=\"unsigned\")\n",
    "    df[\"T_equip_value\"] = pd.to_numeric(df[\"T_equip_value\"], downcast=\"unsigned\")\n",
    "    df[\"CT_money\"] = pd.to_numeric(df[\"CT_money\"], downcast=\"unsigned\")\n",
    "    df[\"T_money\"] = pd.to_numeric(df[\"T_money\"], downcast=\"unsigned\")\n",
    "    df[\"CT_num_grenades\"] = pd.to_numeric(df[\"CT_num_grenades\"], downcast=\"unsigned\")\n",
    "    df[\"T_num_grenades\"] = pd.to_numeric(df[\"T_num_grenades\"], downcast=\"unsigned\")\n",
    "    df[\"CT_num_he\"] = pd.to_numeric(df[\"CT_num_he\"], downcast=\"unsigned\")\n",
    "    df[\"T_num_he\"] = pd.to_numeric(df[\"T_num_he\"], downcast=\"unsigned\")\n",
    "    df[\"CT_num_flash\"] = pd.to_numeric(df[\"CT_num_flash\"], downcast=\"unsigned\")\n",
    "    df[\"T_num_flash\"] = pd.to_numeric(df[\"T_num_flash\"], downcast=\"unsigned\")\n",
    "    df[\"CT_num_smokes\"] = pd.to_numeric(df[\"CT_num_smokes\"], downcast=\"unsigned\")\n",
    "    df[\"T_num_smokes\"] = pd.to_numeric(df[\"T_num_smokes\"], downcast=\"unsigned\")\n",
    "    df[\"CT_num_molly\"] = pd.to_numeric(df[\"CT_num_molly\"], downcast=\"unsigned\")\n",
    "    df[\"T_num_molly\"] = pd.to_numeric(df[\"T_num_molly\"], downcast=\"unsigned\")\n",
    "    \n",
    "    df[\"num_active_smokes\"] = pd.to_numeric(df[\"num_active_smokes\"], downcast=\"unsigned\")\n",
    "    df[\"num_active_molotovs\"] = pd.to_numeric(df[\"num_active_molotovs\"], downcast=\"unsigned\")\n",
    "    \n",
    "    # convert bool to int\n",
    "    df[\"is_overtime\"] = df[\"is_overtime\"].astype(\"bool\").astype(\"int\")\n",
    "    df[\"CT_has_Defuser\"] = df[\"CT_has_Defuser\"].astype(\"bool\").astype(\"int\")\n",
    "    df[\"bomb_dropped\"] = df[\"bomb_dropped\"].astype(\"bool\").astype(\"int\")\n",
    "    \n",
    "    # DEBUG DATA\n",
    "    df[\"fileNumber\"] = pd.to_numeric(df[\"fileNumber\"], downcast=\"unsigned\")\n",
    "    df[\"indexInFile\"] = pd.to_numeric(df[\"indexInFile\"], downcast=\"unsigned\")\n",
    "    \n",
    "    return df"
   ]
  },
  {
   "cell_type": "code",
   "execution_count": 3,
   "metadata": {},
   "outputs": [],
   "source": [
    "def extractCategories(df):\n",
    "    df[\"map\"] = df[\"map\"].astype(\"category\")\n",
    "    df[\"round_status\"] = df[\"round_status\"].astype(\"category\")\n",
    "    df[\"bomb_site\"] = df[\"bomb_site\"].astype(\"category\")\n",
    "    df[\"round_winner\"] = df[\"round_winner\"].astype(\"category\")\n",
    "    df[\"round_winner_codes\"] = df[\"round_winner\"].cat.codes # Works like a bool (CT or T)\n",
    "\n",
    "    # ['de_cache', 'de_dust2', 'de_inferno', 'de_mirage', 'de_nuke', 'de_overpass', 'de_train', 'de_vertigo']\n",
    "    dfMap = pd.get_dummies(df['map'], prefix=\"map\", drop_first = True)\n",
    "    \n",
    "    # bomb_A or bomb_B\n",
    "    dfBomb = pd.get_dummies(df['bomb_site'], prefix=\"bomb\")\n",
    "    \n",
    "    # BombPlanted can be dropped because it's the same as no bombA or B, so either FreezeTime or Normal (drop one)\n",
    "    dfStatus = pd.get_dummies(df['round_status'], prefix=\"status\")\n",
    "    dfStatus = dfStatus.drop(['status_Normal', 'status_BombPlanted'], axis=1)\n",
    "    \n",
    "    \n",
    "    df = pd.concat([df, dfMap, dfStatus, dfBomb], axis=1)\n",
    "    \n",
    "#     display(df)\n",
    "\n",
    "    return df"
   ]
  }
 ],
 "metadata": {
  "kernelspec": {
   "display_name": "Python 3",
   "language": "python",
   "name": "python3"
  },
  "language_info": {
   "codemirror_mode": {
    "name": "ipython",
    "version": 3
   },
   "file_extension": ".py",
   "mimetype": "text/x-python",
   "name": "python",
   "nbconvert_exporter": "python",
   "pygments_lexer": "ipython3",
   "version": "3.8.5"
  }
 },
 "nbformat": 4,
 "nbformat_minor": 4
}
